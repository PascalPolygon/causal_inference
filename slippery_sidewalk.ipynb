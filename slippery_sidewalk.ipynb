{
 "cells": [
  {
   "cell_type": "code",
   "execution_count": 1,
   "metadata": {},
   "outputs": [
    {
     "output_type": "stream",
     "name": "stderr",
     "text": "Using TensorFlow backend.\n"
    }
   ],
   "source": [
    "import numpy as np\n",
    "import pandas as pd \n",
    "from scipy.special import expit \n",
    "from sklearn.linear_model import LogisticRegression\n",
    "from keras.layers import Dense, Input\n",
    "from keras.models import Model\n"
   ]
  },
  {
   "cell_type": "code",
   "execution_count": 3,
   "metadata": {},
   "outputs": [],
   "source": [
    "N = 100000\n",
    "inv_logit = expit\n",
    "x1 = np.random.binomial(1, p=0.5, size=N) #Generating sunny/or not sunny days\n",
    "x2 = np.random.binomial(1, p=inv_logit(-3.*x1)) #Sprinkler on/off depend on wether it's sunny or not\n",
    "x3 = np.random.binomial(1, p=inv_logit(3.*x1)) #Rainy yes/no depend on wether it's sunny or not\n",
    "x4 = np.bitwise_or(x2, x3) #Sidewalk is wet if it's raining or if sprinklers are on\n",
    "x5 = np.random.binomial(1, p=inv_logit(3.*x4)) #Slippery or not depends on wether or not sidewalk is wet\n",
    "X = pd.DataFrame({'$x_1$': x1, '$x_2$': x2, '$x_3$': x3, '$x_4$': x4, '$x_5$': x5})"
   ]
  },
  {
   "cell_type": "markdown",
   "metadata": {},
   "source": [
    "The causal graph of the data generated above is the following:\\n\n",
    "<img src=\"./images/causal_graph.png\">\n",
    "Correlation matrix of variables in the system. Notice the negative relationship between x1 and x2, as well as between x2 and x3. This indicate that when the weather is good, the sprinkler is turned on and when it rains the sprinkler is turned off. "
   ]
  },
  {
   "cell_type": "code",
   "execution_count": 11,
   "metadata": {},
   "outputs": [
    {
     "output_type": "execute_result",
     "data": {
      "text/plain": "          $x_1$     $x_2$     $x_3$     $x_4$     $x_5$\n$x_1$  1.000000 -0.504735  0.507010  0.290376  0.144924\n$x_2$ -0.504735  1.000000 -0.253646  0.255319  0.123463\n$x_3$  0.507010 -0.253646  1.000000  0.679031  0.341176\n$x_4$  0.290376  0.255319  0.679031  1.000000  0.499196\n$x_5$  0.144924  0.123463  0.341176  0.499196  1.000000",
      "text/html": "<div>\n<style scoped>\n    .dataframe tbody tr th:only-of-type {\n        vertical-align: middle;\n    }\n\n    .dataframe tbody tr th {\n        vertical-align: top;\n    }\n\n    .dataframe thead th {\n        text-align: right;\n    }\n</style>\n<table border=\"1\" class=\"dataframe\">\n  <thead>\n    <tr style=\"text-align: right;\">\n      <th></th>\n      <th>$x_1$</th>\n      <th>$x_2$</th>\n      <th>$x_3$</th>\n      <th>$x_4$</th>\n      <th>$x_5$</th>\n    </tr>\n  </thead>\n  <tbody>\n    <tr>\n      <td>$x_1$</td>\n      <td>1.000000</td>\n      <td>-0.504735</td>\n      <td>0.507010</td>\n      <td>0.290376</td>\n      <td>0.144924</td>\n    </tr>\n    <tr>\n      <td>$x_2$</td>\n      <td>-0.504735</td>\n      <td>1.000000</td>\n      <td>-0.253646</td>\n      <td>0.255319</td>\n      <td>0.123463</td>\n    </tr>\n    <tr>\n      <td>$x_3$</td>\n      <td>0.507010</td>\n      <td>-0.253646</td>\n      <td>1.000000</td>\n      <td>0.679031</td>\n      <td>0.341176</td>\n    </tr>\n    <tr>\n      <td>$x_4$</td>\n      <td>0.290376</td>\n      <td>0.255319</td>\n      <td>0.679031</td>\n      <td>1.000000</td>\n      <td>0.499196</td>\n    </tr>\n    <tr>\n      <td>$x_5$</td>\n      <td>0.144924</td>\n      <td>0.123463</td>\n      <td>0.341176</td>\n      <td>0.499196</td>\n      <td>1.000000</td>\n    </tr>\n  </tbody>\n</table>\n</div>"
     },
     "metadata": {},
     "execution_count": 11
    }
   ],
   "source": [
    "X.corr()"
   ]
  },
  {
   "cell_type": "markdown",
   "metadata": {},
   "source": [
    "The following shows the naive conditional expectation values for wether the sidewalk is wet given that the sprinkler is on. "
   ]
  },
  {
   "cell_type": "code",
   "execution_count": 14,
   "metadata": {},
   "outputs": [
    {
     "output_type": "execute_result",
     "data": {
      "text/plain": "          $x_5$\n$x_2$          \n0      0.858605\n1      0.951524",
      "text/html": "<div>\n<style scoped>\n    .dataframe tbody tr th:only-of-type {\n        vertical-align: middle;\n    }\n\n    .dataframe tbody tr th {\n        vertical-align: top;\n    }\n\n    .dataframe thead th {\n        text-align: right;\n    }\n</style>\n<table border=\"1\" class=\"dataframe\">\n  <thead>\n    <tr style=\"text-align: right;\">\n      <th></th>\n      <th>$x_5$</th>\n    </tr>\n    <tr>\n      <th>$x_2$</th>\n      <th></th>\n    </tr>\n  </thead>\n  <tbody>\n    <tr>\n      <td>0</td>\n      <td>0.858605</td>\n    </tr>\n    <tr>\n      <td>1</td>\n      <td>0.951524</td>\n    </tr>\n  </tbody>\n</table>\n</div>"
     },
     "metadata": {},
     "execution_count": 14
    }
   ],
   "source": [
    "X.groupby('$x_2$').mean()[['$x_5$']]"
   ]
  },
  {
   "cell_type": "markdown",
   "metadata": {},
   "source": [
    "We can express the probability distribution of $X_5$ conditional on the observed value of $X_2$ as:\n",
    "$$\n",
    "\\begin{equation*}\n",
    "P(X_1, X_2, X_3, X_4, X_5|X_2) = P(X_5|X_4)P(X_4|X_2,X_3)P(X_3|X_1)P(X_2|X_1)P(X_1)\n",
    "\\end{equation*}\n",
    "$$\n",
    "We wish to know the effect that sprinkler (on/off) has on how slippery the sidewalk is. This is the difference in the expected value of $X_5$ given the covariate $X_2$:\n",
    "$$\n",
    "\\begin{equation*}\n",
    "\\sigma_{naive} = E[X_5 | X_2 = 1] -  E[X_5 | X_2 = 0]\\\\\n",
    "\\sigma_{naive} = 0.95 - 0.86\\\\\n",
    "\\sigma_{naive} = 0.09\n",
    "\\end{equation*}\n",
    "$$\n",
    "The sidewalk is 9 percentage points more likely to be slippery given that the sprinkler was on.\n",
    "\n",
    "However this result does not show the true effect of $X_2$ on $X_5$, because of $X_2$'s dependence on $X_1$ in this dataset. So we create the following dataset:"
   ]
  },
  {
   "cell_type": "code",
   "execution_count": 7,
   "metadata": {},
   "outputs": [
    {
     "output_type": "execute_result",
     "data": {
      "text/plain": "0.12490000000000001"
     },
     "metadata": {},
     "execution_count": 7
    }
   ],
   "source": [
    "x1 = np.random.binomial(1, p=0.5, size=N)\n",
    "\n",
    "x2_0 = np.random.binomial(1, p=0, size=N)\n",
    "x2_1 = np.random.binomial(1, p=1, size=N)\n",
    "\n",
    "x3 = np.random.binomial(1, p=inv_logit(3.*x1))\n",
    "\n",
    "x4_0 = np.bitwise_or(x2_0, x3)\n",
    "x4_1 = np.bitwise_or(x2_1, x3)\n",
    "\n",
    "x5_0 = np.random.binomial(1, p=inv_logit(3.*x4_0))\n",
    "x5_1 = np.random.binomial(1, p=inv_logit(3.*x4_1))\n",
    " \n",
    "Xn = pd.DataFrame({'$x2_0$': x2_0, '$x2_1$': x2_1, '$x5_0$': x5_0, '$x5_1$': x5_1})\n",
    "Xn['$x5_1$'].mean() - Xn['$x5_0$'].mean()"
   ]
  },
  {
   "cell_type": "markdown",
   "metadata": {},
   "source": [
    "The dataset above is interesting because it elicits the power and usefulness of interventions. In this dataset the value of $X_2$ is independent from $X_1$. The causal link between $X_1$ and $X_2$ is broken, therefore the probability distributions on descendent variables of $X_1$ have also changed, as they no longer depend on $X_1$ (These descendent variables include $X_2$, $X_4$ and $X_5$). This dataset in effect depicts a different system from the first one where we simply observed $X_2$. Here the intervention alters the dependecies in the graph. The joint distribution after this intervention is the following:\n",
    "$$\n",
    "\\begin{equation*}\n",
    "P_{do(X_2 = x_2)}(X_1, X_2, X_3, X_4, X_5|X_2) = P(X_5|X_4)P(X_4|X_2=x_2,X_3)P(X_3|X_1)P(X_1)\n",
    "\\end{equation*}\n",
    "$$\n",
    "The expression above is an application of the more general Robins G-Formula:\n",
    "$$\n",
    "\\begin{equation*}\n",
    "P(X_j|do(X_i = x_i)) = \\sum_Z P(X_j|X_i, Z)P(Z)\n",
    "\\end{equation*}\n",
    "$$"
   ]
  },
  {
   "cell_type": "markdown",
   "metadata": {},
   "source": [
    "In the result above we now get that the sidewalk in 12 percentage points more likely to be slippery given that the sprinkler was on. Let's now attempt to predict the effect of $X_2$ (sprinkler on/off) on $X_5$ (sidewalk slippery/or not).\n",
    "We can use a regression model such that:\n",
    "$$\n",
    "\\begin{equation}\n",
    "X_5 = \\beta_0 + \\beta_1X_2\n",
    "\\end{equation}\n",
    "$$\n",
    "In this model we are doing the regression of $X_5$: (sidewalk slippery/or not), against the covariate $X_2$: (sprinkler on/off)."
   ]
  },
  {
   "cell_type": "code",
   "execution_count": 16,
   "metadata": {},
   "outputs": [
    {
     "output_type": "execute_result",
     "data": {
      "text/plain": "0.09288453364376004"
     },
     "metadata": {},
     "execution_count": 16
    }
   ],
   "source": [
    "# build our model, predicting $x_5$ using $x_2$\n",
    "model = LogisticRegression()\n",
    "model = model.fit(X[['$x_2$']], X['$x_5$'])\n",
    "\n",
    "# what would have happened if $x_2$ was always 0:\n",
    "X0 = X.copy()\n",
    "X0['$x_2$'] = 0\n",
    "y_pred_0 = model.predict_proba(X0[['$x_2$']])\n",
    "\n",
    "# what would have happened if $x_2$ was always 1:\n",
    "X1 = X.copy()\n",
    "X1['$x_2$'] = 1\n",
    "y_pred_1 = model.predict_proba(X1[['$x_2$']])\n",
    "\n",
    "# now, let's check the difference in probabilities\n",
    "y_pred_1[:, 1].mean() - y_pred_0[:,1].mean()\n",
    "\n"
   ]
  },
  {
   "cell_type": "markdown",
   "metadata": {},
   "source": [
    "Result above is the same 0.09 difference as $\\sigma_{naive}$. We wish to build a model that predicts an effect that is closer to the true effect. In order to this, we must take into consieration that $X_2$ depends on $X_1$: (Sunny dat/not sunny day) for its value. $X_1$ is therefore a cause of $X_2$. By performing a regression on both covariates we can account for more on the variation in $X_5$. The new regression model therefore is the following:\n",
    "$$\n",
    "\\begin{equation}\n",
    "X_5 = \\beta_0 + \\beta_1X_2 + \\beta_2X_1\n",
    "\\end{equation}\n",
    "$$\n"
   ]
  },
  {
   "cell_type": "code",
   "execution_count": 17,
   "metadata": {},
   "outputs": [
    {
     "output_type": "execute_result",
     "data": {
      "text/plain": "0.14194231684053804"
     },
     "metadata": {},
     "execution_count": 17
    }
   ],
   "source": [
    "model = LogisticRegression()\n",
    "model = model.fit(X[['$x_2$', '$x_1$']], X['$x_5$'])\n",
    " \n",
    "# what would have happened if $x_2$ was always 0:\n",
    "X0 = X.copy()\n",
    "X0['$x_2$'] = 0\n",
    "y_pred_0 = model.predict_proba(X0[['$x_2$', '$x_1$']])\n",
    " \n",
    "# what would have happened if $x_2$ was always 1:\n",
    "X1 = X.copy()\n",
    "X1['$x_2$'] = 1\n",
    " \n",
    "# now, let's check the difference in probabilities\n",
    "y_pred_1 = model.predict_proba(X1[['$x_2$', '$x_1$']])\n",
    "y_pred_1[:, 1].mean() - y_pred_0[:,1].mean()"
   ]
  },
  {
   "cell_type": "markdown",
   "metadata": {},
   "source": [
    "Regression on both $X_1$ and $X_2$ gives an estimate difference that is closer to the true effect of $X_2$. But our regression over-estimated the effect. Let's see if we can do better with a model that is more general than linear regression. We will use a deep feedforward architecture."
   ]
  },
  {
   "cell_type": "code",
   "execution_count": 4,
   "metadata": {},
   "outputs": [
    {
     "output_type": "stream",
     "name": "stdout",
     "text": "Epoch 1/1\n100000/100000 [==============================] - 4s 44us/step - loss: 0.3237\n"
    },
    {
     "output_type": "execute_result",
     "data": {
      "text/plain": "<keras.callbacks.callbacks.History at 0x7f51140cc2b0>"
     },
     "metadata": {},
     "execution_count": 4
    }
   ],
   "source": [
    "dense_size = 128\n",
    "input_features = 2\n",
    " \n",
    "x_in = Input(shape=(input_features,))\n",
    "h1 = Dense(dense_size, activation='relu')(x_in)\n",
    "h2 = Dense(dense_size, activation='relu')(h1)\n",
    "h3 = Dense(dense_size, activation='relu')(h2)\n",
    "y_out = Dense(1, activation='sigmoid')(h3)\n",
    " \n",
    "model = Model(input=x_in, output=y_out)\n",
    "model.compile(loss='binary_crossentropy', optimizer='adam') \n",
    "model.fit(X[['$x_1$', '$x_2$']].values, X['$x_5$'])"
   ]
  },
  {
   "cell_type": "markdown",
   "metadata": {},
   "source": [
    "Let's now perform the same prediction procedure as before"
   ]
  },
  {
   "cell_type": "code",
   "execution_count": 5,
   "metadata": {},
   "outputs": [
    {
     "output_type": "execute_result",
     "data": {
      "text/plain": "0.11946136"
     },
     "metadata": {},
     "execution_count": 5
    }
   ],
   "source": [
    "X_zero = X.copy()\n",
    "X_zero['$x_2$'] = 0\n",
    "x5_pred_0 = model.predict(X_zero[['$x_1$', '$x_2$']].values)\n",
    " \n",
    "X_one = X.copy()\n",
    "X_one['$x_2$'] = 1\n",
    "x5_pred_1 = model.predict(X_one[['$x_1$', '$x_2$']].values)\n",
    " \n",
    "x5_pred_1.mean() - x5_pred_0.mean()"
   ]
  },
  {
   "cell_type": "markdown",
   "metadata": {},
   "source": [
    "We see that this result is different from the one given by the logistic regression model. We can now compute how much less likely is the sidewalk to be slippery if we turn off the sprinkler."
   ]
  },
  {
   "cell_type": "code",
   "execution_count": 6,
   "metadata": {},
   "outputs": [
    {
     "output_type": "execute_result",
     "data": {
      "text/plain": "0.06620157037734986"
     },
     "metadata": {},
     "execution_count": 6
    }
   ],
   "source": [
    "X['$x_5$'].mean() - x5_pred_0.mean()"
   ]
  },
  {
   "cell_type": "markdown",
   "metadata": {},
   "source": [
    "It will be 7 percent less likely that the sidewalk is slippery if a policy is passed to keep sprinklers off."
   ]
  }
 ],
 "metadata": {
  "language_info": {
   "codemirror_mode": {
    "name": "ipython",
    "version": 3
   },
   "file_extension": ".py",
   "mimetype": "text/x-python",
   "name": "python",
   "nbconvert_exporter": "python",
   "pygments_lexer": "ipython3",
   "version": "3.6.9-final"
  },
  "orig_nbformat": 2,
  "kernelspec": {
   "name": "python36964bit38de1cc02df948d3b9a63469152fc45c",
   "display_name": "Python 3.6.9 64-bit"
  }
 },
 "nbformat": 4,
 "nbformat_minor": 2
}