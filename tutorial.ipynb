{
 "cells": [
  {
   "cell_type": "code",
   "execution_count": 8,
   "metadata": {},
   "outputs": [],
   "source": [
    "import numpy as np \n",
    "import pandas as pd \n",
    "from scipy.special import expit \n",
    "import statsmodels.api as sm\n",
    "from sklearn.linear_model import LogisticRegression\n"
   ]
  },
  {
   "cell_type": "code",
   "execution_count": 15,
   "metadata": {},
   "outputs": [],
   "source": [
    "N = 10000\n",
    " \n",
    "neighborhood = np.array(range(N))\n",
    " \n",
    "industry = neighborhood % 3\n",
    " \n",
    "race = ((neighborhood % 3\n",
    "         + np.random.binomial(3, p=0.2, size=N))) % 4 \n",
    "income = np.random.gamma(25, 1000*(industry + 1))\n",
    "crime = np.random.gamma(100000. / income, 100, size=N)\n",
    "X = pd.DataFrame({'R': race, '$I$': income, 'C': crime, \n",
    "                  '$E$': industry, '$N$': neighborhood})"
   ]
  },
  {
   "cell_type": "code",
   "execution_count": 3,
   "metadata": {},
   "outputs": [
    {
     "output_type": "execute_result",
     "data": {
      "text/plain": "      $R$           $I$         $C$  $E$   $N$  intercept\n0       1  29285.311475  214.146364    0     0        1.0\n1       1  67107.539344  165.482690    1     1        1.0\n2       2  59302.921940  151.050767    2     2        1.0\n3       1  26809.026516  509.851086    0     3        1.0\n4       1  54840.067459   27.042228    1     4        1.0\n...   ...           ...         ...  ...   ...        ...\n9995    0  58842.040451   74.333374    2  9995        1.0\n9996    1  32297.726097  485.512124    0  9996        1.0\n9997    3  38787.266929  111.779990    1  9997        1.0\n9998    3  75214.719505   45.459760    2  9998        1.0\n9999    1  23729.509652  411.933953    0  9999        1.0\n\n[10000 rows x 6 columns]",
      "text/html": "<div>\n<style scoped>\n    .dataframe tbody tr th:only-of-type {\n        vertical-align: middle;\n    }\n\n    .dataframe tbody tr th {\n        vertical-align: top;\n    }\n\n    .dataframe thead th {\n        text-align: right;\n    }\n</style>\n<table border=\"1\" class=\"dataframe\">\n  <thead>\n    <tr style=\"text-align: right;\">\n      <th></th>\n      <th>$R$</th>\n      <th>$I$</th>\n      <th>$C$</th>\n      <th>$E$</th>\n      <th>$N$</th>\n      <th>intercept</th>\n    </tr>\n  </thead>\n  <tbody>\n    <tr>\n      <th>0</th>\n      <td>1</td>\n      <td>29285.311475</td>\n      <td>214.146364</td>\n      <td>0</td>\n      <td>0</td>\n      <td>1.0</td>\n    </tr>\n    <tr>\n      <th>1</th>\n      <td>1</td>\n      <td>67107.539344</td>\n      <td>165.482690</td>\n      <td>1</td>\n      <td>1</td>\n      <td>1.0</td>\n    </tr>\n    <tr>\n      <th>2</th>\n      <td>2</td>\n      <td>59302.921940</td>\n      <td>151.050767</td>\n      <td>2</td>\n      <td>2</td>\n      <td>1.0</td>\n    </tr>\n    <tr>\n      <th>3</th>\n      <td>1</td>\n      <td>26809.026516</td>\n      <td>509.851086</td>\n      <td>0</td>\n      <td>3</td>\n      <td>1.0</td>\n    </tr>\n    <tr>\n      <th>4</th>\n      <td>1</td>\n      <td>54840.067459</td>\n      <td>27.042228</td>\n      <td>1</td>\n      <td>4</td>\n      <td>1.0</td>\n    </tr>\n    <tr>\n      <th>...</th>\n      <td>...</td>\n      <td>...</td>\n      <td>...</td>\n      <td>...</td>\n      <td>...</td>\n      <td>...</td>\n    </tr>\n    <tr>\n      <th>9995</th>\n      <td>0</td>\n      <td>58842.040451</td>\n      <td>74.333374</td>\n      <td>2</td>\n      <td>9995</td>\n      <td>1.0</td>\n    </tr>\n    <tr>\n      <th>9996</th>\n      <td>1</td>\n      <td>32297.726097</td>\n      <td>485.512124</td>\n      <td>0</td>\n      <td>9996</td>\n      <td>1.0</td>\n    </tr>\n    <tr>\n      <th>9997</th>\n      <td>3</td>\n      <td>38787.266929</td>\n      <td>111.779990</td>\n      <td>1</td>\n      <td>9997</td>\n      <td>1.0</td>\n    </tr>\n    <tr>\n      <th>9998</th>\n      <td>3</td>\n      <td>75214.719505</td>\n      <td>45.459760</td>\n      <td>2</td>\n      <td>9998</td>\n      <td>1.0</td>\n    </tr>\n    <tr>\n      <th>9999</th>\n      <td>1</td>\n      <td>23729.509652</td>\n      <td>411.933953</td>\n      <td>0</td>\n      <td>9999</td>\n      <td>1.0</td>\n    </tr>\n  </tbody>\n</table>\n<p>10000 rows × 6 columns</p>\n</div>"
     },
     "metadata": {},
     "execution_count": 3
    }
   ],
   "source": [
    "X['intercept'] = 1.\n",
    "X"
   ]
  },
  {
   "cell_type": "code",
   "execution_count": 28,
   "metadata": {},
   "outputs": [
    {
     "output_type": "execute_result",
     "data": {
      "text/plain": "<class 'statsmodels.iolib.summary.Summary'>\n\"\"\"\n                                 OLS Regression Results                                \n=======================================================================================\nDep. Variable:                      R   R-squared (uncentered):                   0.788\nModel:                            OLS   Adj. R-squared (uncentered):              0.788\nMethod:                 Least Squares   F-statistic:                          1.859e+04\nDate:                Tue, 25 Aug 2020   Prob (F-statistic):                        0.00\nTime:                        14:20:20   Log-Likelihood:                         -12083.\nNo. Observations:               10000   AIC:                                  2.417e+04\nDf Residuals:                    9998   BIC:                                  2.418e+04\nDf Model:                           2                                                  \nCovariance Type:            nonrobust                                                  \n==============================================================================\n                 coef    std err          t      P>|t|      [0.025      0.975]\n------------------------------------------------------------------------------\nC              0.0002   2.93e-05      5.190      0.000    9.46e-05       0.000\n$I$         2.781e-05   1.76e-07    157.579      0.000    2.75e-05    2.82e-05\n==============================================================================\nOmnibus:                       93.784   Durbin-Watson:                   2.042\nProb(Omnibus):                  0.000   Jarque-Bera (JB):              117.493\nSkew:                          -0.157   Prob(JB):                     3.07e-26\nKurtosis:                       3.428   Cond. No.                         199.\n==============================================================================\n\nNotes:\n[1] R² is computed without centering (uncentered) since the model does not contain a constant.\n[2] Standard Errors assume that the covariance matrix of the errors is correctly specified.\n\"\"\"",
      "text/html": "<table class=\"simpletable\">\n<caption>OLS Regression Results</caption>\n<tr>\n  <th>Dep. Variable:</th>            <td>R</td>        <th>  R-squared (uncentered):</th>      <td>   0.788</td> \n</tr>\n<tr>\n  <th>Model:</th>                   <td>OLS</td>       <th>  Adj. R-squared (uncentered):</th> <td>   0.788</td> \n</tr>\n<tr>\n  <th>Method:</th>             <td>Least Squares</td>  <th>  F-statistic:       </th>          <td>1.859e+04</td>\n</tr>\n<tr>\n  <th>Date:</th>             <td>Tue, 25 Aug 2020</td> <th>  Prob (F-statistic):</th>           <td>  0.00</td>  \n</tr>\n<tr>\n  <th>Time:</th>                 <td>14:20:20</td>     <th>  Log-Likelihood:    </th>          <td> -12083.</td> \n</tr>\n<tr>\n  <th>No. Observations:</th>      <td> 10000</td>      <th>  AIC:               </th>          <td>2.417e+04</td>\n</tr>\n<tr>\n  <th>Df Residuals:</th>          <td>  9998</td>      <th>  BIC:               </th>          <td>2.418e+04</td>\n</tr>\n<tr>\n  <th>Df Model:</th>              <td>     2</td>      <th>                     </th>              <td> </td>    \n</tr>\n<tr>\n  <th>Covariance Type:</th>      <td>nonrobust</td>    <th>                     </th>              <td> </td>    \n</tr>\n</table>\n<table class=\"simpletable\">\n<tr>\n   <td></td>      <th>coef</th>     <th>std err</th>      <th>t</th>      <th>P>|t|</th>  <th>[0.025</th>    <th>0.975]</th>  \n</tr>\n<tr>\n  <th>C</th>   <td>    0.0002</td> <td> 2.93e-05</td> <td>    5.190</td> <td> 0.000</td> <td> 9.46e-05</td> <td>    0.000</td>\n</tr>\n<tr>\n  <th>$I$</th> <td> 2.781e-05</td> <td> 1.76e-07</td> <td>  157.579</td> <td> 0.000</td> <td> 2.75e-05</td> <td> 2.82e-05</td>\n</tr>\n</table>\n<table class=\"simpletable\">\n<tr>\n  <th>Omnibus:</th>       <td>93.784</td> <th>  Durbin-Watson:     </th> <td>   2.042</td>\n</tr>\n<tr>\n  <th>Prob(Omnibus):</th> <td> 0.000</td> <th>  Jarque-Bera (JB):  </th> <td> 117.493</td>\n</tr>\n<tr>\n  <th>Skew:</th>          <td>-0.157</td> <th>  Prob(JB):          </th> <td>3.07e-26</td>\n</tr>\n<tr>\n  <th>Kurtosis:</th>      <td> 3.428</td> <th>  Cond. No.          </th> <td>    199.</td>\n</tr>\n</table><br/><br/>Notes:<br/>[1] R² is computed without centering (uncentered) since the model does not contain a constant.<br/>[2] Standard Errors assume that the covariance matrix of the errors is correctly specified."
     },
     "metadata": {},
     "execution_count": 28
    }
   ],
   "source": [
    "model = sm.OLS(X['R'], X[['C', '$I$']])\n",
    "result = model.fit()\n",
    "result.summary()"
   ]
  },
  {
   "cell_type": "code",
   "execution_count": 33,
   "metadata": {},
   "outputs": [
    {
     "output_type": "execute_result",
     "data": {
      "text/plain": "0.3985"
     },
     "metadata": {},
     "execution_count": 33
    }
   ],
   "source": [
    "model = LogisticRegression()\n",
    "# rotate_model = rotate_model.fit(tstDataPd[['rotatemean']], tstDataPd['pressuremean'])\n",
    "# rotate_model = rotate_model.fit(np.reshape(X['$C$'], (-1,1)), X['$R$'])\n",
    "model = model.fit(X[['C', '$I$']], X['R'])\n",
    "# model = model.fit(X[['R']], X['C'])\n",
    "score = model.score(X[['C', '$I$']], X['R']) #Coefficient of determination of R^2\n",
    "score"
   ]
  },
  {
   "cell_type": "code",
   "execution_count": 34,
   "metadata": {},
   "outputs": [
    {
     "output_type": "execute_result",
     "data": {
      "text/plain": "array([[ 0.00301691],\n       [ 0.0017371 ],\n       [-0.00150729],\n       [-0.00324672]])"
     },
     "metadata": {},
     "execution_count": 34
    }
   ],
   "source": [
    "model.coef_"
   ]
  },
  {
   "cell_type": "code",
   "execution_count": 5,
   "metadata": {},
   "outputs": [
    {
     "output_type": "execute_result",
     "data": {
      "text/plain": "array([0, 1, 2, ..., 1, 2, 0])"
     },
     "metadata": {},
     "execution_count": 5
    }
   ],
   "source": [
    "N = 10000\n",
    "neighborhood = np.array(range(N))\n",
    "industry = neighborhood % 3\n",
    "industry"
   ]
  },
  {
   "cell_type": "code",
   "execution_count": 11,
   "metadata": {},
   "outputs": [
    {
     "output_type": "execute_result",
     "data": {
      "text/plain": "(10000,)"
     },
     "metadata": {},
     "execution_count": 11
    }
   ],
   "source": [
    "# np.random.binomial(3, p=0.2, size=N)\n",
    "income = np.random.gamma(25, 1000*(industry + 1))\n",
    "income.shape"
   ]
  },
  {
   "cell_type": "code",
   "execution_count": 12,
   "metadata": {},
   "outputs": [
    {
     "output_type": "execute_result",
     "data": {
      "text/plain": "array([403.452856  , 232.40954591,  49.84048155, ..., 360.79110622,\n       233.36969514, 291.17567791])"
     },
     "metadata": {},
     "execution_count": 12
    }
   ],
   "source": [
    "crime = np.random.gamma(100000. / income, 100, size=N)\n",
    "crime"
   ]
  },
  {
   "cell_type": "code",
   "execution_count": 16,
   "metadata": {},
   "outputs": [
    {
     "output_type": "execute_result",
     "data": {
      "text/plain": "      $R$           $I$         $C$  $E$   $N$              race\n0       0  23473.205015  485.515695    0     0  african-american\n1       1  40522.447011  411.520528    1     1          hispanic\n2       2  73670.423225  224.012808    2     2             asian\n3       0  32272.861538  547.730868    0     3  african-american\n4       3  50028.649733  481.626668    1     4             white\n...   ...           ...         ...  ...   ...               ...\n9995    3  75949.078792  149.943943    2  9995             white\n9996    1  21148.353307  588.665256    0  9996          hispanic\n9997    1  44643.566381   96.493702    1  9997          hispanic\n9998    2  79330.780632  115.147678    2  9998             asian\n9999    1  29205.620369  253.996132    0  9999          hispanic\n\n[10000 rows x 6 columns]",
      "text/html": "<div>\n<style scoped>\n    .dataframe tbody tr th:only-of-type {\n        vertical-align: middle;\n    }\n\n    .dataframe tbody tr th {\n        vertical-align: top;\n    }\n\n    .dataframe thead th {\n        text-align: right;\n    }\n</style>\n<table border=\"1\" class=\"dataframe\">\n  <thead>\n    <tr style=\"text-align: right;\">\n      <th></th>\n      <th>$R$</th>\n      <th>$I$</th>\n      <th>$C$</th>\n      <th>$E$</th>\n      <th>$N$</th>\n      <th>race</th>\n    </tr>\n  </thead>\n  <tbody>\n    <tr>\n      <td>0</td>\n      <td>0</td>\n      <td>23473.205015</td>\n      <td>485.515695</td>\n      <td>0</td>\n      <td>0</td>\n      <td>african-american</td>\n    </tr>\n    <tr>\n      <td>1</td>\n      <td>1</td>\n      <td>40522.447011</td>\n      <td>411.520528</td>\n      <td>1</td>\n      <td>1</td>\n      <td>hispanic</td>\n    </tr>\n    <tr>\n      <td>2</td>\n      <td>2</td>\n      <td>73670.423225</td>\n      <td>224.012808</td>\n      <td>2</td>\n      <td>2</td>\n      <td>asian</td>\n    </tr>\n    <tr>\n      <td>3</td>\n      <td>0</td>\n      <td>32272.861538</td>\n      <td>547.730868</td>\n      <td>0</td>\n      <td>3</td>\n      <td>african-american</td>\n    </tr>\n    <tr>\n      <td>4</td>\n      <td>3</td>\n      <td>50028.649733</td>\n      <td>481.626668</td>\n      <td>1</td>\n      <td>4</td>\n      <td>white</td>\n    </tr>\n    <tr>\n      <td>...</td>\n      <td>...</td>\n      <td>...</td>\n      <td>...</td>\n      <td>...</td>\n      <td>...</td>\n      <td>...</td>\n    </tr>\n    <tr>\n      <td>9995</td>\n      <td>3</td>\n      <td>75949.078792</td>\n      <td>149.943943</td>\n      <td>2</td>\n      <td>9995</td>\n      <td>white</td>\n    </tr>\n    <tr>\n      <td>9996</td>\n      <td>1</td>\n      <td>21148.353307</td>\n      <td>588.665256</td>\n      <td>0</td>\n      <td>9996</td>\n      <td>hispanic</td>\n    </tr>\n    <tr>\n      <td>9997</td>\n      <td>1</td>\n      <td>44643.566381</td>\n      <td>96.493702</td>\n      <td>1</td>\n      <td>9997</td>\n      <td>hispanic</td>\n    </tr>\n    <tr>\n      <td>9998</td>\n      <td>2</td>\n      <td>79330.780632</td>\n      <td>115.147678</td>\n      <td>2</td>\n      <td>9998</td>\n      <td>asian</td>\n    </tr>\n    <tr>\n      <td>9999</td>\n      <td>1</td>\n      <td>29205.620369</td>\n      <td>253.996132</td>\n      <td>0</td>\n      <td>9999</td>\n      <td>hispanic</td>\n    </tr>\n  </tbody>\n</table>\n<p>10000 rows × 6 columns</p>\n</div>"
     },
     "metadata": {},
     "execution_count": 16
    }
   ],
   "source": [
    "races = {0: 'african-american', 1: 'hispanic',\n",
    "         2: 'asian', 3: 'white'}\n",
    "X['race'] = X['$R$'].apply(lambda x: races[x])\n",
    "X\n"
   ]
  },
  {
   "cell_type": "code",
   "execution_count": 17,
   "metadata": {},
   "outputs": [
    {
     "output_type": "execute_result",
     "data": {
      "text/plain": "      african-american  asian  hispanic  white\n0                    1      0         0      0\n1                    0      0         1      0\n2                    0      1         0      0\n3                    1      0         0      0\n4                    0      0         0      1\n...                ...    ...       ...    ...\n9995                 0      0         0      1\n9996                 0      0         1      0\n9997                 0      0         1      0\n9998                 0      1         0      0\n9999                 0      0         1      0\n\n[10000 rows x 4 columns]",
      "text/html": "<div>\n<style scoped>\n    .dataframe tbody tr th:only-of-type {\n        vertical-align: middle;\n    }\n\n    .dataframe tbody tr th {\n        vertical-align: top;\n    }\n\n    .dataframe thead th {\n        text-align: right;\n    }\n</style>\n<table border=\"1\" class=\"dataframe\">\n  <thead>\n    <tr style=\"text-align: right;\">\n      <th></th>\n      <th>african-american</th>\n      <th>asian</th>\n      <th>hispanic</th>\n      <th>white</th>\n    </tr>\n  </thead>\n  <tbody>\n    <tr>\n      <td>0</td>\n      <td>1</td>\n      <td>0</td>\n      <td>0</td>\n      <td>0</td>\n    </tr>\n    <tr>\n      <td>1</td>\n      <td>0</td>\n      <td>0</td>\n      <td>1</td>\n      <td>0</td>\n    </tr>\n    <tr>\n      <td>2</td>\n      <td>0</td>\n      <td>1</td>\n      <td>0</td>\n      <td>0</td>\n    </tr>\n    <tr>\n      <td>3</td>\n      <td>1</td>\n      <td>0</td>\n      <td>0</td>\n      <td>0</td>\n    </tr>\n    <tr>\n      <td>4</td>\n      <td>0</td>\n      <td>0</td>\n      <td>0</td>\n      <td>1</td>\n    </tr>\n    <tr>\n      <td>...</td>\n      <td>...</td>\n      <td>...</td>\n      <td>...</td>\n      <td>...</td>\n    </tr>\n    <tr>\n      <td>9995</td>\n      <td>0</td>\n      <td>0</td>\n      <td>0</td>\n      <td>1</td>\n    </tr>\n    <tr>\n      <td>9996</td>\n      <td>0</td>\n      <td>0</td>\n      <td>1</td>\n      <td>0</td>\n    </tr>\n    <tr>\n      <td>9997</td>\n      <td>0</td>\n      <td>0</td>\n      <td>1</td>\n      <td>0</td>\n    </tr>\n    <tr>\n      <td>9998</td>\n      <td>0</td>\n      <td>1</td>\n      <td>0</td>\n      <td>0</td>\n    </tr>\n    <tr>\n      <td>9999</td>\n      <td>0</td>\n      <td>0</td>\n      <td>1</td>\n      <td>0</td>\n    </tr>\n  </tbody>\n</table>\n<p>10000 rows × 4 columns</p>\n</div>"
     },
     "metadata": {},
     "execution_count": 17
    }
   ],
   "source": [
    "race_dummies = pd.get_dummies(X['race'])\n",
    "race_dummies"
   ]
  },
  {
   "cell_type": "code",
   "execution_count": 18,
   "metadata": {},
   "outputs": [],
   "source": [
    "X[race_dummies.columns] = race_dummies"
   ]
  },
  {
   "cell_type": "code",
   "execution_count": 21,
   "metadata": {},
   "outputs": [
    {
     "output_type": "execute_result",
     "data": {
      "text/plain": "      $R$           $I$         $C$  $E$   $N$              race  \\\n0       0  23473.205015  485.515695    0     0  african-american   \n1       1  40522.447011  411.520528    1     1          hispanic   \n2       2  73670.423225  224.012808    2     2             asian   \n3       0  32272.861538  547.730868    0     3  african-american   \n4       3  50028.649733  481.626668    1     4             white   \n...   ...           ...         ...  ...   ...               ...   \n9995    3  75949.078792  149.943943    2  9995             white   \n9996    1  21148.353307  588.665256    0  9996          hispanic   \n9997    1  44643.566381   96.493702    1  9997          hispanic   \n9998    2  79330.780632  115.147678    2  9998             asian   \n9999    1  29205.620369  253.996132    0  9999          hispanic   \n\n      african-american  asian  hispanic  white  \n0                    1      0         0      0  \n1                    0      0         1      0  \n2                    0      1         0      0  \n3                    1      0         0      0  \n4                    0      0         0      1  \n...                ...    ...       ...    ...  \n9995                 0      0         0      1  \n9996                 0      0         1      0  \n9997                 0      0         1      0  \n9998                 0      1         0      0  \n9999                 0      0         1      0  \n\n[10000 rows x 10 columns]",
      "text/html": "<div>\n<style scoped>\n    .dataframe tbody tr th:only-of-type {\n        vertical-align: middle;\n    }\n\n    .dataframe tbody tr th {\n        vertical-align: top;\n    }\n\n    .dataframe thead th {\n        text-align: right;\n    }\n</style>\n<table border=\"1\" class=\"dataframe\">\n  <thead>\n    <tr style=\"text-align: right;\">\n      <th></th>\n      <th>$R$</th>\n      <th>$I$</th>\n      <th>$C$</th>\n      <th>$E$</th>\n      <th>$N$</th>\n      <th>race</th>\n      <th>african-american</th>\n      <th>asian</th>\n      <th>hispanic</th>\n      <th>white</th>\n    </tr>\n  </thead>\n  <tbody>\n    <tr>\n      <td>0</td>\n      <td>0</td>\n      <td>23473.205015</td>\n      <td>485.515695</td>\n      <td>0</td>\n      <td>0</td>\n      <td>african-american</td>\n      <td>1</td>\n      <td>0</td>\n      <td>0</td>\n      <td>0</td>\n    </tr>\n    <tr>\n      <td>1</td>\n      <td>1</td>\n      <td>40522.447011</td>\n      <td>411.520528</td>\n      <td>1</td>\n      <td>1</td>\n      <td>hispanic</td>\n      <td>0</td>\n      <td>0</td>\n      <td>1</td>\n      <td>0</td>\n    </tr>\n    <tr>\n      <td>2</td>\n      <td>2</td>\n      <td>73670.423225</td>\n      <td>224.012808</td>\n      <td>2</td>\n      <td>2</td>\n      <td>asian</td>\n      <td>0</td>\n      <td>1</td>\n      <td>0</td>\n      <td>0</td>\n    </tr>\n    <tr>\n      <td>3</td>\n      <td>0</td>\n      <td>32272.861538</td>\n      <td>547.730868</td>\n      <td>0</td>\n      <td>3</td>\n      <td>african-american</td>\n      <td>1</td>\n      <td>0</td>\n      <td>0</td>\n      <td>0</td>\n    </tr>\n    <tr>\n      <td>4</td>\n      <td>3</td>\n      <td>50028.649733</td>\n      <td>481.626668</td>\n      <td>1</td>\n      <td>4</td>\n      <td>white</td>\n      <td>0</td>\n      <td>0</td>\n      <td>0</td>\n      <td>1</td>\n    </tr>\n    <tr>\n      <td>...</td>\n      <td>...</td>\n      <td>...</td>\n      <td>...</td>\n      <td>...</td>\n      <td>...</td>\n      <td>...</td>\n      <td>...</td>\n      <td>...</td>\n      <td>...</td>\n      <td>...</td>\n    </tr>\n    <tr>\n      <td>9995</td>\n      <td>3</td>\n      <td>75949.078792</td>\n      <td>149.943943</td>\n      <td>2</td>\n      <td>9995</td>\n      <td>white</td>\n      <td>0</td>\n      <td>0</td>\n      <td>0</td>\n      <td>1</td>\n    </tr>\n    <tr>\n      <td>9996</td>\n      <td>1</td>\n      <td>21148.353307</td>\n      <td>588.665256</td>\n      <td>0</td>\n      <td>9996</td>\n      <td>hispanic</td>\n      <td>0</td>\n      <td>0</td>\n      <td>1</td>\n      <td>0</td>\n    </tr>\n    <tr>\n      <td>9997</td>\n      <td>1</td>\n      <td>44643.566381</td>\n      <td>96.493702</td>\n      <td>1</td>\n      <td>9997</td>\n      <td>hispanic</td>\n      <td>0</td>\n      <td>0</td>\n      <td>1</td>\n      <td>0</td>\n    </tr>\n    <tr>\n      <td>9998</td>\n      <td>2</td>\n      <td>79330.780632</td>\n      <td>115.147678</td>\n      <td>2</td>\n      <td>9998</td>\n      <td>asian</td>\n      <td>0</td>\n      <td>1</td>\n      <td>0</td>\n      <td>0</td>\n    </tr>\n    <tr>\n      <td>9999</td>\n      <td>1</td>\n      <td>29205.620369</td>\n      <td>253.996132</td>\n      <td>0</td>\n      <td>9999</td>\n      <td>hispanic</td>\n      <td>0</td>\n      <td>0</td>\n      <td>1</td>\n      <td>0</td>\n    </tr>\n  </tbody>\n</table>\n<p>10000 rows × 10 columns</p>\n</div>"
     },
     "metadata": {},
     "execution_count": 21
    }
   ],
   "source": [
    "X"
   ]
  },
  {
   "cell_type": "code",
   "execution_count": 25,
   "metadata": {},
   "outputs": [
    {
     "output_type": "execute_result",
     "data": {
      "text/plain": "       $x_1$  $x_2$  $x_3$  $x_4$  $x_5$\n0          1      0      1      1      0\n1          1      0      1      1      1\n2          1      0      1      1      1\n3          1      0      1      1      0\n4          1      0      1      1      1\n...      ...    ...    ...    ...    ...\n99995      0      0      1      1      1\n99996      0      1      0      1      1\n99997      1      0      1      1      1\n99998      0      0      1      1      1\n99999      0      1      1      1      1\n\n[100000 rows x 5 columns]",
      "text/html": "<div>\n<style scoped>\n    .dataframe tbody tr th:only-of-type {\n        vertical-align: middle;\n    }\n\n    .dataframe tbody tr th {\n        vertical-align: top;\n    }\n\n    .dataframe thead th {\n        text-align: right;\n    }\n</style>\n<table border=\"1\" class=\"dataframe\">\n  <thead>\n    <tr style=\"text-align: right;\">\n      <th></th>\n      <th>$x_1$</th>\n      <th>$x_2$</th>\n      <th>$x_3$</th>\n      <th>$x_4$</th>\n      <th>$x_5$</th>\n    </tr>\n  </thead>\n  <tbody>\n    <tr>\n      <td>0</td>\n      <td>1</td>\n      <td>0</td>\n      <td>1</td>\n      <td>1</td>\n      <td>0</td>\n    </tr>\n    <tr>\n      <td>1</td>\n      <td>1</td>\n      <td>0</td>\n      <td>1</td>\n      <td>1</td>\n      <td>1</td>\n    </tr>\n    <tr>\n      <td>2</td>\n      <td>1</td>\n      <td>0</td>\n      <td>1</td>\n      <td>1</td>\n      <td>1</td>\n    </tr>\n    <tr>\n      <td>3</td>\n      <td>1</td>\n      <td>0</td>\n      <td>1</td>\n      <td>1</td>\n      <td>0</td>\n    </tr>\n    <tr>\n      <td>4</td>\n      <td>1</td>\n      <td>0</td>\n      <td>1</td>\n      <td>1</td>\n      <td>1</td>\n    </tr>\n    <tr>\n      <td>...</td>\n      <td>...</td>\n      <td>...</td>\n      <td>...</td>\n      <td>...</td>\n      <td>...</td>\n    </tr>\n    <tr>\n      <td>99995</td>\n      <td>0</td>\n      <td>0</td>\n      <td>1</td>\n      <td>1</td>\n      <td>1</td>\n    </tr>\n    <tr>\n      <td>99996</td>\n      <td>0</td>\n      <td>1</td>\n      <td>0</td>\n      <td>1</td>\n      <td>1</td>\n    </tr>\n    <tr>\n      <td>99997</td>\n      <td>1</td>\n      <td>0</td>\n      <td>1</td>\n      <td>1</td>\n      <td>1</td>\n    </tr>\n    <tr>\n      <td>99998</td>\n      <td>0</td>\n      <td>0</td>\n      <td>1</td>\n      <td>1</td>\n      <td>1</td>\n    </tr>\n    <tr>\n      <td>99999</td>\n      <td>0</td>\n      <td>1</td>\n      <td>1</td>\n      <td>1</td>\n      <td>1</td>\n    </tr>\n  </tbody>\n</table>\n<p>100000 rows × 5 columns</p>\n</div>"
     },
     "metadata": {},
     "execution_count": 25
    }
   ],
   "source": [
    "N = 100000\n",
    "inv_logit = expit\n",
    "x1 = np.random.binomial(1, p=0.5, size=N)\n",
    "x2 = np.random.binomial(1, p=inv_logit(-3.*x1))\n",
    "x3 = np.random.binomial(1, p=inv_logit(3.*x1))\n",
    "x4 = np.bitwise_or(x2, x3)\n",
    "x5 = np.random.binomial(1, p=inv_logit(3.*x4))\n",
    " \n",
    "X = pd.DataFrame({'$x_1$': x1, '$x_2$': x2, '$x_3$': x3,\n",
    "                  '$x_4$': x4, '$x_5$': x5})\n",
    "X"
   ]
  },
  {
   "cell_type": "code",
   "execution_count": 55,
   "metadata": {},
   "outputs": [
    {
     "output_type": "execute_result",
     "data": {
      "text/plain": "       $x_1$  $x_2$  $x_3$  $x_4$  $x_5$\n0          0      0      1      1      0\n1          1      0      1      1      1\n2          1      0      0      0      0\n3          0      0      1      1      1\n4          1      0      1      1      1\n...      ...    ...    ...    ...    ...\n99995      0      0      0      0      0\n99996      0      0      1      1      1\n99997      0      0      1      1      1\n99998      1      0      1      1      1\n99999      1      0      1      1      1\n\n[100000 rows x 5 columns]",
      "text/html": "<div>\n<style scoped>\n    .dataframe tbody tr th:only-of-type {\n        vertical-align: middle;\n    }\n\n    .dataframe tbody tr th {\n        vertical-align: top;\n    }\n\n    .dataframe thead th {\n        text-align: right;\n    }\n</style>\n<table border=\"1\" class=\"dataframe\">\n  <thead>\n    <tr style=\"text-align: right;\">\n      <th></th>\n      <th>$x_1$</th>\n      <th>$x_2$</th>\n      <th>$x_3$</th>\n      <th>$x_4$</th>\n      <th>$x_5$</th>\n    </tr>\n  </thead>\n  <tbody>\n    <tr>\n      <td>0</td>\n      <td>0</td>\n      <td>0</td>\n      <td>1</td>\n      <td>1</td>\n      <td>0</td>\n    </tr>\n    <tr>\n      <td>1</td>\n      <td>1</td>\n      <td>0</td>\n      <td>1</td>\n      <td>1</td>\n      <td>1</td>\n    </tr>\n    <tr>\n      <td>2</td>\n      <td>1</td>\n      <td>0</td>\n      <td>0</td>\n      <td>0</td>\n      <td>0</td>\n    </tr>\n    <tr>\n      <td>3</td>\n      <td>0</td>\n      <td>0</td>\n      <td>1</td>\n      <td>1</td>\n      <td>1</td>\n    </tr>\n    <tr>\n      <td>4</td>\n      <td>1</td>\n      <td>0</td>\n      <td>1</td>\n      <td>1</td>\n      <td>1</td>\n    </tr>\n    <tr>\n      <td>...</td>\n      <td>...</td>\n      <td>...</td>\n      <td>...</td>\n      <td>...</td>\n      <td>...</td>\n    </tr>\n    <tr>\n      <td>99995</td>\n      <td>0</td>\n      <td>0</td>\n      <td>0</td>\n      <td>0</td>\n      <td>0</td>\n    </tr>\n    <tr>\n      <td>99996</td>\n      <td>0</td>\n      <td>0</td>\n      <td>1</td>\n      <td>1</td>\n      <td>1</td>\n    </tr>\n    <tr>\n      <td>99997</td>\n      <td>0</td>\n      <td>0</td>\n      <td>1</td>\n      <td>1</td>\n      <td>1</td>\n    </tr>\n    <tr>\n      <td>99998</td>\n      <td>1</td>\n      <td>0</td>\n      <td>1</td>\n      <td>1</td>\n      <td>1</td>\n    </tr>\n    <tr>\n      <td>99999</td>\n      <td>1</td>\n      <td>0</td>\n      <td>1</td>\n      <td>1</td>\n      <td>1</td>\n    </tr>\n  </tbody>\n</table>\n<p>100000 rows × 5 columns</p>\n</div>"
     },
     "metadata": {},
     "execution_count": 55
    }
   ],
   "source": [
    "N = 100000\n",
    "inv_logit = expit\n",
    "x1 = np.random.binomial(1, p=0.5, size=N)\n",
    "x2 = np.random.binomial(1, p=0, size=N)\n",
    "x3 = np.random.binomial(1, p=inv_logit(3.*x1))\n",
    "x4 = np.bitwise_or(x2, x3)\n",
    "x5 = np.random.binomial(1, p=inv_logit(3.*x4))\n",
    " \n",
    "X = pd.DataFrame({'$x_1$': x1, '$x_2$': x2, '$x_3$': x3,\n",
    "                               '$x_4$': x4, '$x_5$': x5})\n",
    "X"
   ]
  },
  {
   "cell_type": "code",
   "execution_count": 56,
   "metadata": {},
   "outputs": [
    {
     "output_type": "execute_result",
     "data": {
      "text/plain": "         $x_5$\n$x_2$         \n0      0.82845",
      "text/html": "<div>\n<style scoped>\n    .dataframe tbody tr th:only-of-type {\n        vertical-align: middle;\n    }\n\n    .dataframe tbody tr th {\n        vertical-align: top;\n    }\n\n    .dataframe thead th {\n        text-align: right;\n    }\n</style>\n<table border=\"1\" class=\"dataframe\">\n  <thead>\n    <tr style=\"text-align: right;\">\n      <th></th>\n      <th>$x_5$</th>\n    </tr>\n    <tr>\n      <th>$x_2$</th>\n      <th></th>\n    </tr>\n  </thead>\n  <tbody>\n    <tr>\n      <td>0</td>\n      <td>0.82845</td>\n    </tr>\n  </tbody>\n</table>\n</div>"
     },
     "metadata": {},
     "execution_count": 56
    }
   ],
   "source": [
    "X.groupby('$x_2$').mean()[['$x_5$']]"
   ]
  },
  {
   "cell_type": "code",
   "execution_count": 54,
   "metadata": {},
   "outputs": [
    {
     "output_type": "execute_result",
     "data": {
      "text/plain": "0.9536"
     },
     "metadata": {},
     "execution_count": 54
    }
   ],
   "source": [
    "X['$x_5$'].mean()"
   ]
  },
  {
   "cell_type": "code",
   "execution_count": 57,
   "metadata": {},
   "outputs": [
    {
     "output_type": "execute_result",
     "data": {
      "text/plain": "0.82845"
     },
     "metadata": {},
     "execution_count": 57
    }
   ],
   "source": [
    "X['$x_5$'].mean()"
   ]
  },
  {
   "cell_type": "code",
   "execution_count": null,
   "metadata": {},
   "outputs": [],
   "source": []
  }
 ],
 "metadata": {
  "language_info": {
   "codemirror_mode": {
    "name": "ipython",
    "version": 3
   },
   "file_extension": ".py",
   "mimetype": "text/x-python",
   "name": "python",
   "nbconvert_exporter": "python",
   "pygments_lexer": "ipython3",
   "version": "3.6.9-final"
  },
  "orig_nbformat": 2,
  "kernelspec": {
   "name": "python36964bit38de1cc02df948d3b9a63469152fc45c",
   "display_name": "Python 3.6.9 64-bit"
  }
 },
 "nbformat": 4,
 "nbformat_minor": 2
}