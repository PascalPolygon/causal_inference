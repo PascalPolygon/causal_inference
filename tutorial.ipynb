{
 "cells": [
  {
   "cell_type": "code",
   "execution_count": 23,
   "metadata": {},
   "outputs": [],
   "source": [
    "import numpy as np \n",
    "import pandas as pd \n",
    "from scipy.special import expit \n"
   ]
  },
  {
   "cell_type": "code",
   "execution_count": 14,
   "metadata": {},
   "outputs": [],
   "source": [
    "N = 10000\n",
    " \n",
    "neighborhood = np.array(range(N))\n",
    " \n",
    "industry = neighborhood % 3\n",
    " \n",
    "race = ((neighborhood % 3\n",
    "         + np.random.binomial(3, p=0.2, size=N))) % 4 \n",
    "income = np.random.gamma(25, 1000*(industry + 1))\n",
    "crime = np.random.gamma(100000. / income, 100, size=N)\n",
    "X = pd.DataFrame({'$R$': race, '$I$': income, '$C$': crime, \n",
    "                  '$E$': industry, '$N$': neighborhood})"
   ]
  },
  {
   "cell_type": "code",
   "execution_count": 9,
   "metadata": {},
   "outputs": [
    {
     "output_type": "execute_result",
     "data": {
      "text/plain": "            X  D         Y  intercept\n0   -1.741168  1 -0.019556        1.0\n1    0.008197  0 -1.270191        1.0\n2    1.551990  1  3.273602        1.0\n3    0.504216  1  2.225828        1.0\n4   -0.439585  0 -1.717973        1.0\n..        ... ..       ...        ...\n995 -0.446051  1  1.275560        1.0\n996 -0.050665  0 -1.329053        1.0\n997  0.083005  1  1.804616        1.0\n998 -0.307544  0 -1.585933        1.0\n999  0.304509  1  2.026120        1.0\n\n[1000 rows x 4 columns]",
      "text/html": "<div>\n<style scoped>\n    .dataframe tbody tr th:only-of-type {\n        vertical-align: middle;\n    }\n\n    .dataframe tbody tr th {\n        vertical-align: top;\n    }\n\n    .dataframe thead th {\n        text-align: right;\n    }\n</style>\n<table border=\"1\" class=\"dataframe\">\n  <thead>\n    <tr style=\"text-align: right;\">\n      <th></th>\n      <th>X</th>\n      <th>D</th>\n      <th>Y</th>\n      <th>intercept</th>\n    </tr>\n  </thead>\n  <tbody>\n    <tr>\n      <td>0</td>\n      <td>-1.741168</td>\n      <td>1</td>\n      <td>-0.019556</td>\n      <td>1.0</td>\n    </tr>\n    <tr>\n      <td>1</td>\n      <td>0.008197</td>\n      <td>0</td>\n      <td>-1.270191</td>\n      <td>1.0</td>\n    </tr>\n    <tr>\n      <td>2</td>\n      <td>1.551990</td>\n      <td>1</td>\n      <td>3.273602</td>\n      <td>1.0</td>\n    </tr>\n    <tr>\n      <td>3</td>\n      <td>0.504216</td>\n      <td>1</td>\n      <td>2.225828</td>\n      <td>1.0</td>\n    </tr>\n    <tr>\n      <td>4</td>\n      <td>-0.439585</td>\n      <td>0</td>\n      <td>-1.717973</td>\n      <td>1.0</td>\n    </tr>\n    <tr>\n      <td>...</td>\n      <td>...</td>\n      <td>...</td>\n      <td>...</td>\n      <td>...</td>\n    </tr>\n    <tr>\n      <td>995</td>\n      <td>-0.446051</td>\n      <td>1</td>\n      <td>1.275560</td>\n      <td>1.0</td>\n    </tr>\n    <tr>\n      <td>996</td>\n      <td>-0.050665</td>\n      <td>0</td>\n      <td>-1.329053</td>\n      <td>1.0</td>\n    </tr>\n    <tr>\n      <td>997</td>\n      <td>0.083005</td>\n      <td>1</td>\n      <td>1.804616</td>\n      <td>1.0</td>\n    </tr>\n    <tr>\n      <td>998</td>\n      <td>-0.307544</td>\n      <td>0</td>\n      <td>-1.585933</td>\n      <td>1.0</td>\n    </tr>\n    <tr>\n      <td>999</td>\n      <td>0.304509</td>\n      <td>1</td>\n      <td>2.026120</td>\n      <td>1.0</td>\n    </tr>\n  </tbody>\n</table>\n<p>1000 rows × 4 columns</p>\n</div>"
     },
     "metadata": {},
     "execution_count": 9
    }
   ],
   "source": [
    "X['intercept'] = 1.\n",
    "X"
   ]
  },
  {
   "cell_type": "code",
   "execution_count": 5,
   "metadata": {},
   "outputs": [
    {
     "output_type": "execute_result",
     "data": {
      "text/plain": "array([0, 1, 2, ..., 1, 2, 0])"
     },
     "metadata": {},
     "execution_count": 5
    }
   ],
   "source": [
    "N = 10000\n",
    "neighborhood = np.array(range(N))\n",
    "industry = neighborhood % 3\n",
    "industry"
   ]
  },
  {
   "cell_type": "code",
   "execution_count": 11,
   "metadata": {},
   "outputs": [
    {
     "output_type": "execute_result",
     "data": {
      "text/plain": "(10000,)"
     },
     "metadata": {},
     "execution_count": 11
    }
   ],
   "source": [
    "# np.random.binomial(3, p=0.2, size=N)\n",
    "income = np.random.gamma(25, 1000*(industry + 1))\n",
    "income.shape"
   ]
  },
  {
   "cell_type": "code",
   "execution_count": 12,
   "metadata": {},
   "outputs": [
    {
     "output_type": "execute_result",
     "data": {
      "text/plain": "array([403.452856  , 232.40954591,  49.84048155, ..., 360.79110622,\n       233.36969514, 291.17567791])"
     },
     "metadata": {},
     "execution_count": 12
    }
   ],
   "source": [
    "crime = np.random.gamma(100000. / income, 100, size=N)\n",
    "crime"
   ]
  },
  {
   "cell_type": "code",
   "execution_count": 16,
   "metadata": {},
   "outputs": [
    {
     "output_type": "execute_result",
     "data": {
      "text/plain": "      $R$           $I$         $C$  $E$   $N$              race\n0       0  23473.205015  485.515695    0     0  african-american\n1       1  40522.447011  411.520528    1     1          hispanic\n2       2  73670.423225  224.012808    2     2             asian\n3       0  32272.861538  547.730868    0     3  african-american\n4       3  50028.649733  481.626668    1     4             white\n...   ...           ...         ...  ...   ...               ...\n9995    3  75949.078792  149.943943    2  9995             white\n9996    1  21148.353307  588.665256    0  9996          hispanic\n9997    1  44643.566381   96.493702    1  9997          hispanic\n9998    2  79330.780632  115.147678    2  9998             asian\n9999    1  29205.620369  253.996132    0  9999          hispanic\n\n[10000 rows x 6 columns]",
      "text/html": "<div>\n<style scoped>\n    .dataframe tbody tr th:only-of-type {\n        vertical-align: middle;\n    }\n\n    .dataframe tbody tr th {\n        vertical-align: top;\n    }\n\n    .dataframe thead th {\n        text-align: right;\n    }\n</style>\n<table border=\"1\" class=\"dataframe\">\n  <thead>\n    <tr style=\"text-align: right;\">\n      <th></th>\n      <th>$R$</th>\n      <th>$I$</th>\n      <th>$C$</th>\n      <th>$E$</th>\n      <th>$N$</th>\n      <th>race</th>\n    </tr>\n  </thead>\n  <tbody>\n    <tr>\n      <td>0</td>\n      <td>0</td>\n      <td>23473.205015</td>\n      <td>485.515695</td>\n      <td>0</td>\n      <td>0</td>\n      <td>african-american</td>\n    </tr>\n    <tr>\n      <td>1</td>\n      <td>1</td>\n      <td>40522.447011</td>\n      <td>411.520528</td>\n      <td>1</td>\n      <td>1</td>\n      <td>hispanic</td>\n    </tr>\n    <tr>\n      <td>2</td>\n      <td>2</td>\n      <td>73670.423225</td>\n      <td>224.012808</td>\n      <td>2</td>\n      <td>2</td>\n      <td>asian</td>\n    </tr>\n    <tr>\n      <td>3</td>\n      <td>0</td>\n      <td>32272.861538</td>\n      <td>547.730868</td>\n      <td>0</td>\n      <td>3</td>\n      <td>african-american</td>\n    </tr>\n    <tr>\n      <td>4</td>\n      <td>3</td>\n      <td>50028.649733</td>\n      <td>481.626668</td>\n      <td>1</td>\n      <td>4</td>\n      <td>white</td>\n    </tr>\n    <tr>\n      <td>...</td>\n      <td>...</td>\n      <td>...</td>\n      <td>...</td>\n      <td>...</td>\n      <td>...</td>\n      <td>...</td>\n    </tr>\n    <tr>\n      <td>9995</td>\n      <td>3</td>\n      <td>75949.078792</td>\n      <td>149.943943</td>\n      <td>2</td>\n      <td>9995</td>\n      <td>white</td>\n    </tr>\n    <tr>\n      <td>9996</td>\n      <td>1</td>\n      <td>21148.353307</td>\n      <td>588.665256</td>\n      <td>0</td>\n      <td>9996</td>\n      <td>hispanic</td>\n    </tr>\n    <tr>\n      <td>9997</td>\n      <td>1</td>\n      <td>44643.566381</td>\n      <td>96.493702</td>\n      <td>1</td>\n      <td>9997</td>\n      <td>hispanic</td>\n    </tr>\n    <tr>\n      <td>9998</td>\n      <td>2</td>\n      <td>79330.780632</td>\n      <td>115.147678</td>\n      <td>2</td>\n      <td>9998</td>\n      <td>asian</td>\n    </tr>\n    <tr>\n      <td>9999</td>\n      <td>1</td>\n      <td>29205.620369</td>\n      <td>253.996132</td>\n      <td>0</td>\n      <td>9999</td>\n      <td>hispanic</td>\n    </tr>\n  </tbody>\n</table>\n<p>10000 rows × 6 columns</p>\n</div>"
     },
     "metadata": {},
     "execution_count": 16
    }
   ],
   "source": [
    "races = {0: 'african-american', 1: 'hispanic',\n",
    "         2: 'asian', 3: 'white'}\n",
    "X['race'] = X['$R$'].apply(lambda x: races[x])\n",
    "X\n"
   ]
  },
  {
   "cell_type": "code",
   "execution_count": 17,
   "metadata": {},
   "outputs": [
    {
     "output_type": "execute_result",
     "data": {
      "text/plain": "      african-american  asian  hispanic  white\n0                    1      0         0      0\n1                    0      0         1      0\n2                    0      1         0      0\n3                    1      0         0      0\n4                    0      0         0      1\n...                ...    ...       ...    ...\n9995                 0      0         0      1\n9996                 0      0         1      0\n9997                 0      0         1      0\n9998                 0      1         0      0\n9999                 0      0         1      0\n\n[10000 rows x 4 columns]",
      "text/html": "<div>\n<style scoped>\n    .dataframe tbody tr th:only-of-type {\n        vertical-align: middle;\n    }\n\n    .dataframe tbody tr th {\n        vertical-align: top;\n    }\n\n    .dataframe thead th {\n        text-align: right;\n    }\n</style>\n<table border=\"1\" class=\"dataframe\">\n  <thead>\n    <tr style=\"text-align: right;\">\n      <th></th>\n      <th>african-american</th>\n      <th>asian</th>\n      <th>hispanic</th>\n      <th>white</th>\n    </tr>\n  </thead>\n  <tbody>\n    <tr>\n      <td>0</td>\n      <td>1</td>\n      <td>0</td>\n      <td>0</td>\n      <td>0</td>\n    </tr>\n    <tr>\n      <td>1</td>\n      <td>0</td>\n      <td>0</td>\n      <td>1</td>\n      <td>0</td>\n    </tr>\n    <tr>\n      <td>2</td>\n      <td>0</td>\n      <td>1</td>\n      <td>0</td>\n      <td>0</td>\n    </tr>\n    <tr>\n      <td>3</td>\n      <td>1</td>\n      <td>0</td>\n      <td>0</td>\n      <td>0</td>\n    </tr>\n    <tr>\n      <td>4</td>\n      <td>0</td>\n      <td>0</td>\n      <td>0</td>\n      <td>1</td>\n    </tr>\n    <tr>\n      <td>...</td>\n      <td>...</td>\n      <td>...</td>\n      <td>...</td>\n      <td>...</td>\n    </tr>\n    <tr>\n      <td>9995</td>\n      <td>0</td>\n      <td>0</td>\n      <td>0</td>\n      <td>1</td>\n    </tr>\n    <tr>\n      <td>9996</td>\n      <td>0</td>\n      <td>0</td>\n      <td>1</td>\n      <td>0</td>\n    </tr>\n    <tr>\n      <td>9997</td>\n      <td>0</td>\n      <td>0</td>\n      <td>1</td>\n      <td>0</td>\n    </tr>\n    <tr>\n      <td>9998</td>\n      <td>0</td>\n      <td>1</td>\n      <td>0</td>\n      <td>0</td>\n    </tr>\n    <tr>\n      <td>9999</td>\n      <td>0</td>\n      <td>0</td>\n      <td>1</td>\n      <td>0</td>\n    </tr>\n  </tbody>\n</table>\n<p>10000 rows × 4 columns</p>\n</div>"
     },
     "metadata": {},
     "execution_count": 17
    }
   ],
   "source": [
    "race_dummies = pd.get_dummies(X['race'])\n",
    "race_dummies"
   ]
  },
  {
   "cell_type": "code",
   "execution_count": 18,
   "metadata": {},
   "outputs": [],
   "source": [
    "X[race_dummies.columns] = race_dummies"
   ]
  },
  {
   "cell_type": "code",
   "execution_count": 21,
   "metadata": {},
   "outputs": [
    {
     "output_type": "execute_result",
     "data": {
      "text/plain": "      $R$           $I$         $C$  $E$   $N$              race  \\\n0       0  23473.205015  485.515695    0     0  african-american   \n1       1  40522.447011  411.520528    1     1          hispanic   \n2       2  73670.423225  224.012808    2     2             asian   \n3       0  32272.861538  547.730868    0     3  african-american   \n4       3  50028.649733  481.626668    1     4             white   \n...   ...           ...         ...  ...   ...               ...   \n9995    3  75949.078792  149.943943    2  9995             white   \n9996    1  21148.353307  588.665256    0  9996          hispanic   \n9997    1  44643.566381   96.493702    1  9997          hispanic   \n9998    2  79330.780632  115.147678    2  9998             asian   \n9999    1  29205.620369  253.996132    0  9999          hispanic   \n\n      african-american  asian  hispanic  white  \n0                    1      0         0      0  \n1                    0      0         1      0  \n2                    0      1         0      0  \n3                    1      0         0      0  \n4                    0      0         0      1  \n...                ...    ...       ...    ...  \n9995                 0      0         0      1  \n9996                 0      0         1      0  \n9997                 0      0         1      0  \n9998                 0      1         0      0  \n9999                 0      0         1      0  \n\n[10000 rows x 10 columns]",
      "text/html": "<div>\n<style scoped>\n    .dataframe tbody tr th:only-of-type {\n        vertical-align: middle;\n    }\n\n    .dataframe tbody tr th {\n        vertical-align: top;\n    }\n\n    .dataframe thead th {\n        text-align: right;\n    }\n</style>\n<table border=\"1\" class=\"dataframe\">\n  <thead>\n    <tr style=\"text-align: right;\">\n      <th></th>\n      <th>$R$</th>\n      <th>$I$</th>\n      <th>$C$</th>\n      <th>$E$</th>\n      <th>$N$</th>\n      <th>race</th>\n      <th>african-american</th>\n      <th>asian</th>\n      <th>hispanic</th>\n      <th>white</th>\n    </tr>\n  </thead>\n  <tbody>\n    <tr>\n      <td>0</td>\n      <td>0</td>\n      <td>23473.205015</td>\n      <td>485.515695</td>\n      <td>0</td>\n      <td>0</td>\n      <td>african-american</td>\n      <td>1</td>\n      <td>0</td>\n      <td>0</td>\n      <td>0</td>\n    </tr>\n    <tr>\n      <td>1</td>\n      <td>1</td>\n      <td>40522.447011</td>\n      <td>411.520528</td>\n      <td>1</td>\n      <td>1</td>\n      <td>hispanic</td>\n      <td>0</td>\n      <td>0</td>\n      <td>1</td>\n      <td>0</td>\n    </tr>\n    <tr>\n      <td>2</td>\n      <td>2</td>\n      <td>73670.423225</td>\n      <td>224.012808</td>\n      <td>2</td>\n      <td>2</td>\n      <td>asian</td>\n      <td>0</td>\n      <td>1</td>\n      <td>0</td>\n      <td>0</td>\n    </tr>\n    <tr>\n      <td>3</td>\n      <td>0</td>\n      <td>32272.861538</td>\n      <td>547.730868</td>\n      <td>0</td>\n      <td>3</td>\n      <td>african-american</td>\n      <td>1</td>\n      <td>0</td>\n      <td>0</td>\n      <td>0</td>\n    </tr>\n    <tr>\n      <td>4</td>\n      <td>3</td>\n      <td>50028.649733</td>\n      <td>481.626668</td>\n      <td>1</td>\n      <td>4</td>\n      <td>white</td>\n      <td>0</td>\n      <td>0</td>\n      <td>0</td>\n      <td>1</td>\n    </tr>\n    <tr>\n      <td>...</td>\n      <td>...</td>\n      <td>...</td>\n      <td>...</td>\n      <td>...</td>\n      <td>...</td>\n      <td>...</td>\n      <td>...</td>\n      <td>...</td>\n      <td>...</td>\n      <td>...</td>\n    </tr>\n    <tr>\n      <td>9995</td>\n      <td>3</td>\n      <td>75949.078792</td>\n      <td>149.943943</td>\n      <td>2</td>\n      <td>9995</td>\n      <td>white</td>\n      <td>0</td>\n      <td>0</td>\n      <td>0</td>\n      <td>1</td>\n    </tr>\n    <tr>\n      <td>9996</td>\n      <td>1</td>\n      <td>21148.353307</td>\n      <td>588.665256</td>\n      <td>0</td>\n      <td>9996</td>\n      <td>hispanic</td>\n      <td>0</td>\n      <td>0</td>\n      <td>1</td>\n      <td>0</td>\n    </tr>\n    <tr>\n      <td>9997</td>\n      <td>1</td>\n      <td>44643.566381</td>\n      <td>96.493702</td>\n      <td>1</td>\n      <td>9997</td>\n      <td>hispanic</td>\n      <td>0</td>\n      <td>0</td>\n      <td>1</td>\n      <td>0</td>\n    </tr>\n    <tr>\n      <td>9998</td>\n      <td>2</td>\n      <td>79330.780632</td>\n      <td>115.147678</td>\n      <td>2</td>\n      <td>9998</td>\n      <td>asian</td>\n      <td>0</td>\n      <td>1</td>\n      <td>0</td>\n      <td>0</td>\n    </tr>\n    <tr>\n      <td>9999</td>\n      <td>1</td>\n      <td>29205.620369</td>\n      <td>253.996132</td>\n      <td>0</td>\n      <td>9999</td>\n      <td>hispanic</td>\n      <td>0</td>\n      <td>0</td>\n      <td>1</td>\n      <td>0</td>\n    </tr>\n  </tbody>\n</table>\n<p>10000 rows × 10 columns</p>\n</div>"
     },
     "metadata": {},
     "execution_count": 21
    }
   ],
   "source": [
    "X"
   ]
  },
  {
   "cell_type": "code",
   "execution_count": 25,
   "metadata": {},
   "outputs": [
    {
     "output_type": "execute_result",
     "data": {
      "text/plain": "       $x_1$  $x_2$  $x_3$  $x_4$  $x_5$\n0          1      0      1      1      0\n1          1      0      1      1      1\n2          1      0      1      1      1\n3          1      0      1      1      0\n4          1      0      1      1      1\n...      ...    ...    ...    ...    ...\n99995      0      0      1      1      1\n99996      0      1      0      1      1\n99997      1      0      1      1      1\n99998      0      0      1      1      1\n99999      0      1      1      1      1\n\n[100000 rows x 5 columns]",
      "text/html": "<div>\n<style scoped>\n    .dataframe tbody tr th:only-of-type {\n        vertical-align: middle;\n    }\n\n    .dataframe tbody tr th {\n        vertical-align: top;\n    }\n\n    .dataframe thead th {\n        text-align: right;\n    }\n</style>\n<table border=\"1\" class=\"dataframe\">\n  <thead>\n    <tr style=\"text-align: right;\">\n      <th></th>\n      <th>$x_1$</th>\n      <th>$x_2$</th>\n      <th>$x_3$</th>\n      <th>$x_4$</th>\n      <th>$x_5$</th>\n    </tr>\n  </thead>\n  <tbody>\n    <tr>\n      <td>0</td>\n      <td>1</td>\n      <td>0</td>\n      <td>1</td>\n      <td>1</td>\n      <td>0</td>\n    </tr>\n    <tr>\n      <td>1</td>\n      <td>1</td>\n      <td>0</td>\n      <td>1</td>\n      <td>1</td>\n      <td>1</td>\n    </tr>\n    <tr>\n      <td>2</td>\n      <td>1</td>\n      <td>0</td>\n      <td>1</td>\n      <td>1</td>\n      <td>1</td>\n    </tr>\n    <tr>\n      <td>3</td>\n      <td>1</td>\n      <td>0</td>\n      <td>1</td>\n      <td>1</td>\n      <td>0</td>\n    </tr>\n    <tr>\n      <td>4</td>\n      <td>1</td>\n      <td>0</td>\n      <td>1</td>\n      <td>1</td>\n      <td>1</td>\n    </tr>\n    <tr>\n      <td>...</td>\n      <td>...</td>\n      <td>...</td>\n      <td>...</td>\n      <td>...</td>\n      <td>...</td>\n    </tr>\n    <tr>\n      <td>99995</td>\n      <td>0</td>\n      <td>0</td>\n      <td>1</td>\n      <td>1</td>\n      <td>1</td>\n    </tr>\n    <tr>\n      <td>99996</td>\n      <td>0</td>\n      <td>1</td>\n      <td>0</td>\n      <td>1</td>\n      <td>1</td>\n    </tr>\n    <tr>\n      <td>99997</td>\n      <td>1</td>\n      <td>0</td>\n      <td>1</td>\n      <td>1</td>\n      <td>1</td>\n    </tr>\n    <tr>\n      <td>99998</td>\n      <td>0</td>\n      <td>0</td>\n      <td>1</td>\n      <td>1</td>\n      <td>1</td>\n    </tr>\n    <tr>\n      <td>99999</td>\n      <td>0</td>\n      <td>1</td>\n      <td>1</td>\n      <td>1</td>\n      <td>1</td>\n    </tr>\n  </tbody>\n</table>\n<p>100000 rows × 5 columns</p>\n</div>"
     },
     "metadata": {},
     "execution_count": 25
    }
   ],
   "source": [
    "N = 100000\n",
    "inv_logit = expit\n",
    "x1 = np.random.binomial(1, p=0.5, size=N)\n",
    "x2 = np.random.binomial(1, p=inv_logit(-3.*x1))\n",
    "x3 = np.random.binomial(1, p=inv_logit(3.*x1))\n",
    "x4 = np.bitwise_or(x2, x3)\n",
    "x5 = np.random.binomial(1, p=inv_logit(3.*x4))\n",
    " \n",
    "X = pd.DataFrame({'$x_1$': x1, '$x_2$': x2, '$x_3$': x3,\n",
    "                  '$x_4$': x4, '$x_5$': x5})\n",
    "X"
   ]
  },
  {
   "cell_type": "code",
   "execution_count": 55,
   "metadata": {},
   "outputs": [
    {
     "output_type": "execute_result",
     "data": {
      "text/plain": "       $x_1$  $x_2$  $x_3$  $x_4$  $x_5$\n0          0      0      1      1      0\n1          1      0      1      1      1\n2          1      0      0      0      0\n3          0      0      1      1      1\n4          1      0      1      1      1\n...      ...    ...    ...    ...    ...\n99995      0      0      0      0      0\n99996      0      0      1      1      1\n99997      0      0      1      1      1\n99998      1      0      1      1      1\n99999      1      0      1      1      1\n\n[100000 rows x 5 columns]",
      "text/html": "<div>\n<style scoped>\n    .dataframe tbody tr th:only-of-type {\n        vertical-align: middle;\n    }\n\n    .dataframe tbody tr th {\n        vertical-align: top;\n    }\n\n    .dataframe thead th {\n        text-align: right;\n    }\n</style>\n<table border=\"1\" class=\"dataframe\">\n  <thead>\n    <tr style=\"text-align: right;\">\n      <th></th>\n      <th>$x_1$</th>\n      <th>$x_2$</th>\n      <th>$x_3$</th>\n      <th>$x_4$</th>\n      <th>$x_5$</th>\n    </tr>\n  </thead>\n  <tbody>\n    <tr>\n      <td>0</td>\n      <td>0</td>\n      <td>0</td>\n      <td>1</td>\n      <td>1</td>\n      <td>0</td>\n    </tr>\n    <tr>\n      <td>1</td>\n      <td>1</td>\n      <td>0</td>\n      <td>1</td>\n      <td>1</td>\n      <td>1</td>\n    </tr>\n    <tr>\n      <td>2</td>\n      <td>1</td>\n      <td>0</td>\n      <td>0</td>\n      <td>0</td>\n      <td>0</td>\n    </tr>\n    <tr>\n      <td>3</td>\n      <td>0</td>\n      <td>0</td>\n      <td>1</td>\n      <td>1</td>\n      <td>1</td>\n    </tr>\n    <tr>\n      <td>4</td>\n      <td>1</td>\n      <td>0</td>\n      <td>1</td>\n      <td>1</td>\n      <td>1</td>\n    </tr>\n    <tr>\n      <td>...</td>\n      <td>...</td>\n      <td>...</td>\n      <td>...</td>\n      <td>...</td>\n      <td>...</td>\n    </tr>\n    <tr>\n      <td>99995</td>\n      <td>0</td>\n      <td>0</td>\n      <td>0</td>\n      <td>0</td>\n      <td>0</td>\n    </tr>\n    <tr>\n      <td>99996</td>\n      <td>0</td>\n      <td>0</td>\n      <td>1</td>\n      <td>1</td>\n      <td>1</td>\n    </tr>\n    <tr>\n      <td>99997</td>\n      <td>0</td>\n      <td>0</td>\n      <td>1</td>\n      <td>1</td>\n      <td>1</td>\n    </tr>\n    <tr>\n      <td>99998</td>\n      <td>1</td>\n      <td>0</td>\n      <td>1</td>\n      <td>1</td>\n      <td>1</td>\n    </tr>\n    <tr>\n      <td>99999</td>\n      <td>1</td>\n      <td>0</td>\n      <td>1</td>\n      <td>1</td>\n      <td>1</td>\n    </tr>\n  </tbody>\n</table>\n<p>100000 rows × 5 columns</p>\n</div>"
     },
     "metadata": {},
     "execution_count": 55
    }
   ],
   "source": [
    "N = 100000\n",
    "inv_logit = expit\n",
    "x1 = np.random.binomial(1, p=0.5, size=N)\n",
    "x2 = np.random.binomial(1, p=0, size=N)\n",
    "x3 = np.random.binomial(1, p=inv_logit(3.*x1))\n",
    "x4 = np.bitwise_or(x2, x3)\n",
    "x5 = np.random.binomial(1, p=inv_logit(3.*x4))\n",
    " \n",
    "X = pd.DataFrame({'$x_1$': x1, '$x_2$': x2, '$x_3$': x3,\n",
    "                               '$x_4$': x4, '$x_5$': x5})\n",
    "X"
   ]
  },
  {
   "cell_type": "code",
   "execution_count": 56,
   "metadata": {},
   "outputs": [
    {
     "output_type": "execute_result",
     "data": {
      "text/plain": "         $x_5$\n$x_2$         \n0      0.82845",
      "text/html": "<div>\n<style scoped>\n    .dataframe tbody tr th:only-of-type {\n        vertical-align: middle;\n    }\n\n    .dataframe tbody tr th {\n        vertical-align: top;\n    }\n\n    .dataframe thead th {\n        text-align: right;\n    }\n</style>\n<table border=\"1\" class=\"dataframe\">\n  <thead>\n    <tr style=\"text-align: right;\">\n      <th></th>\n      <th>$x_5$</th>\n    </tr>\n    <tr>\n      <th>$x_2$</th>\n      <th></th>\n    </tr>\n  </thead>\n  <tbody>\n    <tr>\n      <td>0</td>\n      <td>0.82845</td>\n    </tr>\n  </tbody>\n</table>\n</div>"
     },
     "metadata": {},
     "execution_count": 56
    }
   ],
   "source": [
    "X.groupby('$x_2$').mean()[['$x_5$']]"
   ]
  },
  {
   "cell_type": "code",
   "execution_count": 54,
   "metadata": {},
   "outputs": [
    {
     "output_type": "execute_result",
     "data": {
      "text/plain": "0.9536"
     },
     "metadata": {},
     "execution_count": 54
    }
   ],
   "source": [
    "X['$x_5$'].mean()"
   ]
  },
  {
   "cell_type": "code",
   "execution_count": 57,
   "metadata": {},
   "outputs": [
    {
     "output_type": "execute_result",
     "data": {
      "text/plain": "0.82845"
     },
     "metadata": {},
     "execution_count": 57
    }
   ],
   "source": [
    "X['$x_5$'].mean()"
   ]
  },
  {
   "cell_type": "code",
   "execution_count": null,
   "metadata": {},
   "outputs": [],
   "source": []
  }
 ],
 "metadata": {
  "language_info": {
   "codemirror_mode": {
    "name": "ipython",
    "version": 3
   },
   "file_extension": ".py",
   "mimetype": "text/x-python",
   "name": "python",
   "nbconvert_exporter": "python",
   "pygments_lexer": "ipython3",
   "version": "3.7.4-final"
  },
  "orig_nbformat": 2,
  "kernelspec": {
   "name": "python37464bitbaseconda3b15b15b47874cc680b55031cb935bf2",
   "display_name": "Python 3.7.4 64-bit ('base': conda)"
  }
 },
 "nbformat": 4,
 "nbformat_minor": 2
}